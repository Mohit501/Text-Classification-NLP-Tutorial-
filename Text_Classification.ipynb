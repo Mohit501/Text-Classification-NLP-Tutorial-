{
  "nbformat": 4,
  "nbformat_minor": 0,
  "metadata": {
    "colab": {
      "name": "Text Classification",
      "provenance": [],
      "authorship_tag": "ABX9TyO/gn9a0Ci7BMow8EYv/6kV",
      "include_colab_link": true
    },
    "kernelspec": {
      "name": "python3",
      "display_name": "Python 3"
    },
    "language_info": {
      "name": "python"
    }
  },
  "cells": [
    {
      "cell_type": "markdown",
      "metadata": {
        "id": "view-in-github",
        "colab_type": "text"
      },
      "source": [
        "<a href=\"https://colab.research.google.com/github/Mohit501/Text-Classification-NLP-Tutorial-/blob/main/Text_Classification.ipynb\" target=\"_parent\"><img src=\"https://colab.research.google.com/assets/colab-badge.svg\" alt=\"Open In Colab\"/></a>"
      ]
    },
    {
      "cell_type": "markdown",
      "metadata": {
        "id": "s1EXRb5l7ubY"
      },
      "source": [
        "<h1> Loading Required Libraries"
      ]
    },
    {
      "cell_type": "code",
      "metadata": {
        "colab": {
          "base_uri": "https://localhost:8080/"
        },
        "id": "1xrOaYHO2IdK",
        "outputId": "390c0c14-7fc8-4f23-b0f5-de6d5571de3e"
      },
      "source": [
        "import numpy as np\n",
        "import pandas as pd\n",
        "import nltk\n",
        "import re\n",
        "import pickle\n",
        "from nltk.corpus import stopwords\n",
        "from sklearn.datasets import load_files\n",
        "from sklearn.feature_extraction.text import CountVectorizer,TfidfTransformer,TfidfVectorizer\n",
        "nltk.download('stopwords')\n",
        "from sklearn.model_selection import train_test_split\n",
        "from sklearn.linear_model import LogisticRegression\n",
        "from sklearn.metrics import confusion_matrix\n",
        "import matplotlib.pyplot as plt\n",
        "import seaborn as sb"
      ],
      "execution_count": 1,
      "outputs": [
        {
          "output_type": "stream",
          "text": [
            "[nltk_data] Downloading package stopwords to /root/nltk_data...\n",
            "[nltk_data]   Package stopwords is already up-to-date!\n"
          ],
          "name": "stdout"
        }
      ]
    },
    {
      "cell_type": "markdown",
      "metadata": {
        "id": "KkZG-_1w-TOQ"
      },
      "source": [
        "# Loading Data"
      ]
    },
    {
      "cell_type": "code",
      "metadata": {
        "id": "pJcsX1sc60jJ"
      },
      "source": [
        "reviews = load_files('/content/drive/MyDrive/txt_sentoken')\n",
        "X,y = reviews.data,reviews.target"
      ],
      "execution_count": 2,
      "outputs": []
    },
    {
      "cell_type": "markdown",
      "metadata": {
        "id": "7ZqgKq7n-Vxa"
      },
      "source": [
        "## Storing Data as Pickle File"
      ]
    },
    {
      "cell_type": "code",
      "metadata": {
        "id": "yVOhYqXB61oP"
      },
      "source": [
        "with open('X.pickle','wb') as f:\n",
        "  pickle.dump(X,f)\n",
        "with open('y.pickle','wb') as f:\n",
        "  pickle.dump(y,f)\n"
      ],
      "execution_count": 3,
      "outputs": []
    },
    {
      "cell_type": "markdown",
      "metadata": {
        "id": "FCPMQ3vw-7hS"
      },
      "source": [
        "#Creating a corpus"
      ]
    },
    {
      "cell_type": "code",
      "metadata": {
        "id": "bCgvC_HQ-mLb"
      },
      "source": [
        "corpus = []\n",
        "for i in range(0,len(X)):\n",
        "  review = re.sub(r'\\W',' ',str(X[i]))\n",
        "  review = review.lower()\n",
        "  review = re.sub(r'\\s+[a-z]\\s+',' ',review)\n",
        "  review = re.sub(r'^[a-z]\\s+',' ',review)\n",
        "  review = re.sub(r'\\s+',' ',review)\n",
        "  corpus.append(review)"
      ],
      "execution_count": 4,
      "outputs": []
    },
    {
      "cell_type": "code",
      "metadata": {
        "colab": {
          "base_uri": "https://localhost:8080/",
          "height": 120
        },
        "id": "NOYsYI1r-nXd",
        "outputId": "c3e95a72-05c1-4b4e-801c-9870e4b805d9"
      },
      "source": [
        "corpus[32]"
      ],
      "execution_count": 5,
      "outputs": [
        {
          "output_type": "execute_result",
          "data": {
            "application/vnd.google.colaboratory.intrinsic+json": {
              "type": "string"
            },
            "text/plain": [
              "' the idea at the center of the devil advocate which is thus far one of the three or four best films of 1997 is that no matter what decision is made evil will triumph god is trickster satan is humanist the last humanist nhe appears in many guises and seduces many men and women in his own words vanity by far my favorite sin nal pacino plays this role with relish and gets to chew some delectable lines lemme givya piece inside wisdom on god have million names as john milton the devil nthe main idea that he can appear as anyone in any form in this case buisness man harkens mainly back to terry gilliam the time bandits nbut the film is something else something original npart of what makes it so very good is that it never takes itself too seriously it dabbles with morality vanity death and child abuse but doesn try to become any profound study of power nthis is marvelous confection cocky funny thought provoking nit is also entertaining nthere is no way you could possibly predict the ending it pulls back upon itself drawing purely out of the mind eye nthe final shot is more creative more daring more challenging then anything in cinema since the white sock in the coen fargo nthe central themes are fascinating sometimes reminiscent of james the turn of the screw and oates accursed inhabitants of the house of bly and the product that is built around it really wows nits nice to know that things like this are still being made '"
            ]
          },
          "metadata": {
            "tags": []
          },
          "execution_count": 5
        }
      ]
    },
    {
      "cell_type": "markdown",
      "metadata": {
        "id": "bqmxrcuNBEfB"
      },
      "source": [
        "# Creating a BOW Model"
      ]
    },
    {
      "cell_type": "code",
      "metadata": {
        "id": "YTji9sQfAP3f"
      },
      "source": [
        "vectorizer = TfidfVectorizer(max_features=2000,min_df=3,max_df=0.6,stop_words = stopwords.words('english'))\n",
        "X = vectorizer.fit_transform(corpus).toarray()"
      ],
      "execution_count": 6,
      "outputs": []
    },
    {
      "cell_type": "markdown",
      "metadata": {
        "id": "LTDGJcJDDKfI"
      },
      "source": [
        "# Splitting into train and test data"
      ]
    },
    {
      "cell_type": "code",
      "metadata": {
        "id": "9xmMeRnWCwBN"
      },
      "source": [
        "X_train,X_test,y_train,y_test = train_test_split(X,y,test_size= 0.2)"
      ],
      "execution_count": 7,
      "outputs": []
    },
    {
      "cell_type": "markdown",
      "metadata": {
        "id": "KlifJ7fGDuoL"
      },
      "source": [
        "#Text Classification using Logistic Regression"
      ]
    },
    {
      "cell_type": "code",
      "metadata": {
        "colab": {
          "base_uri": "https://localhost:8080/"
        },
        "id": "CikYx4HlDhXw",
        "outputId": "e995af56-d655-4c29-b19c-02ccaad3821c"
      },
      "source": [
        "clf = LogisticRegression()\n",
        "clf.fit(X_train,y_train)"
      ],
      "execution_count": 8,
      "outputs": [
        {
          "output_type": "execute_result",
          "data": {
            "text/plain": [
              "LogisticRegression(C=1.0, class_weight=None, dual=False, fit_intercept=True,\n",
              "                   intercept_scaling=1, l1_ratio=None, max_iter=100,\n",
              "                   multi_class='auto', n_jobs=None, penalty='l2',\n",
              "                   random_state=None, solver='lbfgs', tol=0.0001, verbose=0,\n",
              "                   warm_start=False)"
            ]
          },
          "metadata": {
            "tags": []
          },
          "execution_count": 8
        }
      ]
    },
    {
      "cell_type": "markdown",
      "metadata": {
        "id": "PtPPRTgaFHrC"
      },
      "source": [
        "#Confusion_matrix"
      ]
    },
    {
      "cell_type": "code",
      "metadata": {
        "id": "DrNVgY0lD7mn"
      },
      "source": [
        "prediction = clf.predict(X_test)"
      ],
      "execution_count": 9,
      "outputs": []
    },
    {
      "cell_type": "code",
      "metadata": {
        "id": "OC4wCxdnEGjF"
      },
      "source": [
        "confusionmatrix = confusion_matrix(y_test,prediction) "
      ],
      "execution_count": 10,
      "outputs": []
    },
    {
      "cell_type": "code",
      "metadata": {
        "colab": {
          "base_uri": "https://localhost:8080/",
          "height": 282
        },
        "id": "G70Xr4SIETEt",
        "outputId": "3fa5fa1f-9df1-4c8e-a44f-539c967a5063"
      },
      "source": [
        "sb.heatmap(confusionmatrix,annot = True)"
      ],
      "execution_count": 11,
      "outputs": [
        {
          "output_type": "execute_result",
          "data": {
            "text/plain": [
              "<matplotlib.axes._subplots.AxesSubplot at 0x7f7d8c964c10>"
            ]
          },
          "metadata": {
            "tags": []
          },
          "execution_count": 11
        },
        {
          "output_type": "display_data",
          "data": {
            "image/png": "[encoded data removed]",
            "text/plain": [
              "<Figure size 432x288 with 2 Axes>"
            ]
          },
          "metadata": {
            "tags": [],
            "needs_background": "light"
          }
        }
      ]
    },
    {
      "cell_type": "code",
      "metadata": {
        "colab": {
          "base_uri": "https://localhost:8080/"
        },
        "id": "EYd2LXhDEUwM",
        "outputId": "a10aaf36-67af-4803-aad8-bdeaf3ff4c9d"
      },
      "source": [
        "confusionmatrix[0][0] + confusionmatrix[1][1]"
      ],
      "execution_count": 12,
      "outputs": [
        {
          "output_type": "execute_result",
          "data": {
            "text/plain": [
              "333"
            ]
          },
          "metadata": {
            "tags": []
          },
          "execution_count": 12
        }
      ]
    },
    {
      "cell_type": "code",
      "metadata": {
        "colab": {
          "base_uri": "https://localhost:8080/"
        },
        "id": "u3dXwiHUFWDU",
        "outputId": "5323f11d-dc2a-4cd7-f81a-d377bf0794f1"
      },
      "source": [
        "337/4"
      ],
      "execution_count": 13,
      "outputs": [
        {
          "output_type": "execute_result",
          "data": {
            "text/plain": [
              "84.25"
            ]
          },
          "metadata": {
            "tags": []
          },
          "execution_count": 13
        }
      ]
    },
    {
      "cell_type": "markdown",
      "metadata": {
        "id": "UO-z43IxIm2R"
      },
      "source": [
        "# Saving Our Model"
      ]
    },
    {
      "cell_type": "code",
      "metadata": {
        "id": "09XNSmMqFX4t"
      },
      "source": [
        "with open('clf.pickle','wb') as f:\n",
        "  pickle.dump(clf,f)"
      ],
      "execution_count": 14,
      "outputs": []
    },
    {
      "cell_type": "code",
      "metadata": {
        "id": "fysXzUyzI6sp"
      },
      "source": [
        "with open('tfidfmodel.pickle','wb') as f:\n",
        "  pickle.dump(vectorizer,f)"
      ],
      "execution_count": 15,
      "outputs": []
    },
    {
      "cell_type": "markdown",
      "metadata": {
        "id": "U1HwYDhrK3xQ"
      },
      "source": [
        "# Loading our Model"
      ]
    },
    {
      "cell_type": "code",
      "metadata": {
        "id": "b7IlwyewKqI-"
      },
      "source": [
        "with open('clf.pickle','rb') as f:\n",
        "  clf = pickle.load(f)"
      ],
      "execution_count": 16,
      "outputs": []
    },
    {
      "cell_type": "code",
      "metadata": {
        "id": "3tgrAsiSLJA5"
      },
      "source": [
        "with open('tfidfmodel.pickle','rb') as f:\n",
        "  tfidf = pickle.load(f)"
      ],
      "execution_count": 17,
      "outputs": []
    },
    {
      "cell_type": "code",
      "metadata": {
        "id": "4NmSIsQjLTNW"
      },
      "source": [
        "sample = [\"You are not a very nice person,have bad good life\"]\n",
        "sample = tfidf.transform(sample).toarray()"
      ],
      "execution_count": 18,
      "outputs": []
    },
    {
      "cell_type": "code",
      "metadata": {
        "colab": {
          "base_uri": "https://localhost:8080/"
        },
        "id": "3LuWjdCBLgus",
        "outputId": "8ea0819e-0790-4233-ef56-71f437311865"
      },
      "source": [
        "sample"
      ],
      "execution_count": 19,
      "outputs": [
        {
          "output_type": "execute_result",
          "data": {
            "text/plain": [
              "array([[0., 0., 0., ..., 0., 0., 0.]])"
            ]
          },
          "metadata": {
            "tags": []
          },
          "execution_count": 19
        }
      ]
    },
    {
      "cell_type": "code",
      "metadata": {
        "colab": {
          "base_uri": "https://localhost:8080/"
        },
        "id": "Nrckw54VLhbu",
        "outputId": "dfdab7e0-a1ce-4d98-f98f-543e253b9967"
      },
      "source": [
        "clf.predict(sample)"
      ],
      "execution_count": 20,
      "outputs": [
        {
          "output_type": "execute_result",
          "data": {
            "text/plain": [
              "array([1])"
            ]
          },
          "metadata": {
            "tags": []
          },
          "execution_count": 20
        }
      ]
    }
  ]
}